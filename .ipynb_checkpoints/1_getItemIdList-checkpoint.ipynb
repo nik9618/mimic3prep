{
 "cells": [
  {
   "cell_type": "markdown",
   "metadata": {},
   "source": [
    "# Generate list of itemID for each events\n",
    "Currently we are focusing on 6 events.\n",
    "- inputevents\n",
    "- outputevents\n",
    "- chartevents\n",
    "- labevents\n",
    "- microbiologyevents\n",
    "- prescriptions\n",
    "\n",
    "For each one of these events, in this step, we generate the list of itemID that used by metavision system."
   ]
  },
  {
   "cell_type": "code",
   "execution_count": 7,
   "metadata": {
    "collapsed": true
   },
   "outputs": [],
   "source": [
    "# DB connection:\n",
    "import psycopg2\n",
    "import datetime\n",
    "import sys\n",
    "from operator import itemgetter, attrgetter, methodcaller\n",
    "import numpy as np\n",
    "import itertools\n",
    "import os.path\n",
    "import matplotlib.pyplot as plt\n",
    "import math\n",
    "%matplotlib inline"
   ]
  },
  {
   "cell_type": "code",
   "execution_count": 8,
   "metadata": {
    "collapsed": false
   },
   "outputs": [
    {
     "name": "stdout",
     "output_type": "stream",
     "text": [
      "connection established\n"
     ]
    }
   ],
   "source": [
    "try:\n",
    "    conn = psycopg2.connect(\"dbname='mimic' user='mimic' host='localhost' password='meladymimic315'\")\n",
    "except:\n",
    "    print \"I am unable to connect to the database\"\n",
    "print 'connection established'"
   ]
  },
  {
   "cell_type": "markdown",
   "metadata": {},
   "source": [
    "# load metavision admission ID"
   ]
  },
  {
   "cell_type": "code",
   "execution_count": null,
   "metadata": {
    "collapsed": true
   },
   "outputs": [],
   "source": [
    "_adm = np.load('res/admission_ids.npy').tolist()\n",
    "admission_ids = _adm['admission_ids']\n",
    "admission_ids_txt = _adm['admission_ids_txt']"
   ]
  },
  {
   "cell_type": "markdown",
   "metadata": {},
   "source": [
    "# select outputevent itemid\n",
    "We select the itemID from outputevent that id is more than 200000.\n",
    "ID numbers that are more than 200000 is from metavision system."
   ]
  },
  {
   "cell_type": "code",
   "execution_count": 10,
   "metadata": {
    "collapsed": false
   },
   "outputs": [
    {
     "name": "stdout",
     "output_type": "stream",
     "text": [
      "len(output_itemid) = 68\n"
     ]
    }
   ],
   "source": [
    "sql = 'select distinct itemid from mimiciii.outputevents where itemid >= 200000'\n",
    "cur = conn.cursor()\n",
    "cur.execute(sql)\n",
    "res = cur.fetchall()\n",
    "output_itemid = []\n",
    "output_itemid_txt = \"\"\n",
    "\n",
    "for r in res:\n",
    "    output_itemid.append(r[0])\n",
    "\n",
    "print \"len(output_itemid) = \"+ str(len(output_itemid))"
   ]
  },
  {
   "cell_type": "markdown",
   "metadata": {},
   "source": [
    "# select inputevent itemid\n",
    "We select the itemID from inputevents that id is more than 200000.\n",
    "ID numbers that are more than 200000 is from metavision system."
   ]
  },
  {
   "cell_type": "code",
   "execution_count": 11,
   "metadata": {
    "collapsed": false
   },
   "outputs": [
    {
     "name": "stdout",
     "output_type": "stream",
     "text": [
      "len(input_itemid) = 278\n"
     ]
    }
   ],
   "source": [
    "sql = 'select distinct itemid from mimiciii.inputevents_mv where itemid >= 200000'\n",
    "cur = conn.cursor()\n",
    "cur.execute(sql)\n",
    "res = cur.fetchall()\n",
    "input_itemid = []\n",
    "input_itemid_txt = \"\"\n",
    "\n",
    "for r in res:\n",
    "    input_itemid.append(r[0]);\n",
    "\n",
    "print \"len(input_itemid) = \"+ str(len(input_itemid))"
   ]
  },
  {
   "cell_type": "markdown",
   "metadata": {},
   "source": [
    "# select inputevent itemid\n",
    "We select the itemID from chartevent that id is more than 200000.\n",
    "ID numbers that are more than 200000 is from metavision system."
   ]
  },
  {
   "cell_type": "code",
   "execution_count": 12,
   "metadata": {
    "collapsed": false
   },
   "outputs": [
    {
     "name": "stdout",
     "output_type": "stream",
     "text": [
      "len(chart_itemid) = 661\n"
     ]
    }
   ],
   "source": [
    "sql = 'select distinct itemid from mimiciii.chartevents where itemid >= 200000'\n",
    "cur = conn.cursor()\n",
    "cur.execute(sql)\n",
    "res = cur.fetchall()\n",
    "chart_itemid = []\n",
    "chart_itemid_txt = \"\"\n",
    "\n",
    "for r in res:\n",
    "    chart_itemid.append(r[0]);\n",
    "\n",
    "print \"len(chart_itemid) = \"+ str(len(chart_itemid))"
   ]
  },
  {
   "cell_type": "markdown",
   "metadata": {},
   "source": [
    "# select labevent itemid\n",
    "In this step, we select all the itemid that appears in labevent table."
   ]
  },
  {
   "cell_type": "code",
   "execution_count": 14,
   "metadata": {
    "collapsed": false
   },
   "outputs": [
    {
     "name": "stdout",
     "output_type": "stream",
     "text": [
      "len(res) = 729\n",
      ". 0\n",
      ". . . . . . . . . . . . . . . . . . . . . . . . . . . . . . . . . . . . . . . . . . . . . . . . . . . . . . . . . . . . . . . . . . . . . . . . . . . . . . . . . . . . . . . . . . . . . . . . . . . . . . . . . . . . . . . . . . . . . . . . . . . . . . . . . . . . . . . . . . . . . . . . . . . . . . . . . . . . . . . . . . . . . . . . . . . . . . . . . . . . . . . . . . . . . . . . . . . . . . . . . . . . . . . . . . . . . . . . . . . . . . . . . . . . . . . . . . . . . . . . . . . . . . . . . . . . . . . . . . . . . . . . . . . . . . . . . . . . . . . . . . . . . . . . . . . . . . . . . . . . . . . . . . . . . . . . . . . . . . . . . . . . . . . . . . . . . . . . . . . . . . . . . . . . . . . . . . . . . . . . . . . . . . . . . . . . . . . . . . . . . . . . . . . . . . . . . . . . . . . . . . . . . . . . . . . . . . . . . . . . . . . . . . . . . . . . . . . . . . . . . . . . . . . . . . . . . . . . . . . . . . . . . . . . . . . . . . . . . . . . . . . . . . . . . . . . . . . . . . . . . . . . . . . . . . . . . . . . . . . . . . . . . . . . . . . . . . . . . . . . . . . . . . . . . . . . . . . . . . . . . . . . . . . . . . . . . . . . . . . . . . . . . . . . . . . . . . . . . . . . . . . . . . . . . . . . . . . . . . . . . . . . . . . . . . . . . . . . . . . . . . . . . . . . . . . . . . . . . . . . . . . . . . . . . . . . . . . . . . . . . . . . . . . . . . . . . . . . . . . . . . . . . . . . . . . . . . . . . . . . . . . . . . . .\n"
     ]
    }
   ],
   "source": [
    "sql = 'select distinct itemid from mimiciii.labevents'\n",
    "cur = conn.cursor()\n",
    "cur.execute(sql)\n",
    "res = cur.fetchall()\n",
    "print 'len(res) = ' +str(len(res));\n",
    "\n",
    "numberOfAdmissionThatUseItemid = []\n",
    "i=0\n",
    "for r in res:\n",
    "    r=r[0]\n",
    "    sql = 'select count(distinct hadm_id) from mimiciii.labevents where itemid='+str(r)+' AND hadm_id in(' + admission_ids_txt + ')'\n",
    "    cur = conn.cursor()\n",
    "    cur.execute(sql)\n",
    "    r2 = cur.fetchall()\n",
    "    numberOfAdmissionThatUseItemid.append((r, r2[0],))\n",
    "    print '.',\n",
    "    if(i%1000==0): print i\n",
    "    i+=1\n",
    "\n",
    "numberOfAdmissionThatUseItemid = sorted(numberOfAdmissionThatUseItemid, key=lambda tup: tup[1]);\n",
    "numberOfAdmissionThatUseItemid.reverse()\n",
    "\n",
    "lab_itemid = []\n",
    "for r in numberOfAdmissionThatUseItemid:\n",
    "    lab_itemid.append(r[0])"
   ]
  },
  {
   "cell_type": "markdown",
   "metadata": {
    "collapsed": true
   },
   "source": [
    "# Labevent histogram\n",
    "- y axis is the number of distinct admission id that use a particular labitemID.\n",
    "- x axis: each position in x axis correspond to a particular labitemID.\n",
    "- For example there are around 20 labitemsID that is used by all admissions.\n",
    "- From this graph we can also conclude that only top 100 labitemid is observed in most admissions. The rest of the labitemID is very rarely used."
   ]
  },
  {
   "cell_type": "code",
   "execution_count": 16,
   "metadata": {
    "collapsed": false
   },
   "outputs": [
    {
     "data": {
      "text/plain": [
       "<Container object of 729 artists>"
      ]
     },
     "execution_count": 16,
     "metadata": {},
     "output_type": "execute_result"
    },
    {
     "data": {
      "image/png": "[encoded data removed]",
      "text/plain": [
       "<matplotlib.figure.Figure at 0x7f0f91f7eb10>"
      ]
     },
     "metadata": {},
     "output_type": "display_data"
    }
   ],
   "source": [
    "plt.figure(figsize=(10,5))\n",
    "plt.bar([i for i in range(len(numberOfAdmissionThatUseItemid))],[int(r[1][0]) for r in numberOfAdmissionThatUseItemid])"
   ]
  },
  {
   "cell_type": "markdown",
   "metadata": {},
   "source": [
    "# select microbiologyevents itemid\n",
    "This table give the microbiology test result of patients.\n",
    "Each row contains 3 id and test result\n",
    "- specimen type (what is the specimen to test, e.g. urine, blood, etc.)\n",
    "- organism type (what is the organism to test, e.g. bacteria, yeast, ENTEROCOCCUS SP.)\n",
    "- antibiotic type (? i.e. LEVOFLOXACIN)\n",
    "\n",
    "Here in this step, we extract every combination of 3 ids that appear in dataset."
   ]
  },
  {
   "cell_type": "code",
   "execution_count": null,
   "metadata": {
    "collapsed": true
   },
   "outputs": [],
   "source": [
    "sql = 'select distinct (spec_itemid,org_itemid,ab_itemid),spec_itemid,org_itemid,ab_itemid from mimiciii.microbiologyevents'\n",
    "cur = conn.cursor()\n",
    "cur.execute(sql)\n",
    "res = cur.fetchall()\n",
    "print 'len(res) = ' +str(len(res));\n",
    "\n",
    "numberOfAdmissionThatUseItemid = []\n",
    "i=0\n",
    "for r in res:\n",
    "    sql = 'select count(distinct hadm_id) from mimiciii.microbiologyevents where hadm_id in(' + admission_ids_txt + ')'\n",
    "    if(r[1]!=None): sql += ' and spec_itemid=' + str(r[1])\n",
    "    else: sql += ' and spec_itemid is null'\n",
    "    if(r[2]!=None): sql += ' and org_itemid=' + str(r[2])\n",
    "    else: sql += ' and org_itemid is null'\n",
    "    if(r[3]!=None): sql += ' and ab_itemid=' + str(r[3])\n",
    "    else: sql += ' and ab_itemid is null'\n",
    "    \n",
    "    cur = conn.cursor()\n",
    "    cur.execute(sql)\n",
    "    r2 = cur.fetchall()\n",
    "    numberOfAdmissionThatUseItemid.append((r[0], r2[0],))\n",
    "    print '.',\n",
    "    if(i%1000==0): print i\n",
    "    i+=1\n",
    "\n",
    "numberOfAdmissionThatUseItemid = sorted(numberOfAdmissionThatUseItemid, key=lambda tup: tup[1]);\n",
    "numberOfAdmissionThatUseItemid.reverse()\n",
    "\n",
    "microbio_itemid = []\n",
    "for r in numberOfAdmissionThatUseItemid:\n",
    "    microbio_itemid.append(r[0])"
   ]
  },
  {
   "cell_type": "markdown",
   "metadata": {
    "collapsed": false
   },
   "source": [
    "# microbiology histogram\n",
    "- y axis : number of distinct admissions that has a particular microbiology test.\n",
    "- x axis : a particular test, identified by (spec_id, org_id, ab_id)"
   ]
  },
  {
   "cell_type": "code",
   "execution_count": 24,
   "metadata": {
    "collapsed": false
   },
   "outputs": [
    {
     "data": {
      "text/plain": [
       "<Container object of 3268 artists>"
      ]
     },
     "execution_count": 24,
     "metadata": {},
     "output_type": "execute_result"
    },
    {
     "data": {
      "image/png": "[encoded data removed]",
      "text/plain": [
       "<matplotlib.figure.Figure at 0x7f0f8bb35110>"
      ]
     },
     "metadata": {},
     "output_type": "display_data"
    }
   ],
   "source": [
    "plt.figure(figsize=(10,5))\n",
    "plt.bar([i for i in range(len(numberOfAdmissionThatUseItemid))],[int(r[1][0]) for r in numberOfAdmissionThatUseItemid])"
   ]
  },
  {
   "cell_type": "markdown",
   "metadata": {},
   "source": [
    "# select prescription formulary_drug_cd\n",
    "Formulary_drug_cd is a medicine type. Each record in this tables gives a dose of medicine that is given to patient at a particular time.\n",
    "\n",
    "In this step, we select all the formulary_drug_cd that appears in prescriptions table.\n"
   ]
  },
  {
   "cell_type": "code",
   "execution_count": 25,
   "metadata": {
    "collapsed": false
   },
   "outputs": [
    {
     "name": "stdout",
     "output_type": "stream",
     "text": [
      "len(res) = 3268\n",
      ". 0\n",
      ". . . . . . . . . . . . . . . . . . . . . . . . . . . . . . . . . . . . . . . . . . . . . . . . . . . . . . . . . . . . . . . . . . . . . . . . . . . . . . . . . . . . . . . . . . . . . . . . . . . . . . . . . . . . . . . . . . . . . . . . . . . . . . . . . . . . . . . . . . . . . . . . . . . . . . . . . . . . . . . . . . . . . . . . . . . . . . . . . . . . . . . . . . . . . . . . . . . . . . . . . . . . . . . . . . . . . . . . . . . . . . . . . . . . . . . . . . . . . . . . . . . . . . . . . . . . . . . . . . . . . . . . . . . . . . . . . . . . . . . . . . . . . . . . . . . . . . . . . . . . . . . . . . . . . . . . . . . . . . . . . . . . . . . . . . . . . . . . . . . . . . . . . . . . . . . . . . . . . . . . . . . . . . . . . . . . . . . . . . . . . . . . . . . . . . . . . . . . . . . . . . . . . . . . . . . . . . . . . . . . . . . . . . . . . . . . . . . . . . . . . . . . . . . . . . . . . . . . . . . . . . . . . . . . . . . . . . . . . . . . . . . . . . . . . . . . . . . . . . . . . . . . . . . . . . . . . . . . . . . . . . . . . . . . . . . . . . . . . . . . . . . . . . . . . . . . . . . . . . . . . . . . . . . . . . . . . . . . . . . . . . . . . . . . . . . . . . . . . . . . . . . . . . . . . . . . . . . . . . . . . . . . . . . . . . . . . . . . . . . . . . . . . . . . . . . . . . . . . . . . . . . . . . . . . . . . . . . . . . . . . . . . . . . . . . . . . . . . . . . . . . . . . . . . . . . . . . . . . . . . . . . . . . . . . . . . . . . . . . . . . . . . . . . . . . . . . . . . . . . . . . . . . . . . . . . . . . . . . . . . . . . . . . . . . . . . . . . . . . . . . . . . . . . . . . . . . . . . . . . . . . . . . . . . . . . . . . . . . . . . . . . . . . . . . . . . . . . . . . . . . . . . . . . . . . . . . . . . . . . . . . . . . . . . . . . . . . . . . . . . . . . . . . . . . . . . . . . . . . . . . . . . . . . . . . . . . . . . . . . . . . . . . . . . . . . . . . . . . . . . . . . . . . . . . . . . . . . . . . . . . . . . . . . . . . . . . . . . . . . . 1000\n",
      ". . . . . . . . . . . . . . . . . . . . . . . . . . . . . . . . . . . . . . . . . . . . . . . . . . . . . . . . . . . . . . . . . . . . . . . . . . . . . . . . . . . . . . . . . . . . . . . . . . . . . . . . . . . . . . . . . . . . . . . . . . . . . . . . . . . . . . . . . . . . . . . . . . . . . . . . . . . . . . . . . . . . . . . . . . . . . . . . . . . . . . . . . . . . . . . . . . . . . . . . . . . . . . . . . . . . . . . . . . . . . . . . . . . . . . . . . . . . . . . . . . . . . . . . . . . . . . . . . . . . . . . . . . . . . . . . . . . . . . . . . . . . . . . . . . . . . . . . . . . . . . . . . . . . . . . . . . . . . . . . . . . . . . . . . . . . . . . . . . . . . . . . . . . . . . . . . . . . . . . . . . . . . . . . . . . . . . . . . . . . . . . . . . . . . . . . . . . . . . . . . . . . . . . . . . . . . . . . . . . . . . . . . . . . . . . . . . . . . . . . . . . . . . . . . . . . . . . . . . . . . . . . . . . . . . . . . . . . . . . . . . . . . . . . . . . . . . . . . . . . . . . . . . . . . . . . . . . . . . . . . . . . . . . . . . . . . . . . . . . . . . . . . . . . . . . . . . . . . . . . . . . . . . . . . . . . . . . . . . . . . . . . . . . . . . . . . . . . . . . . . . . . . . . . . . . . . . . . . . . . . . . . . . . . . . . . . . . . . . . . . . . . . . . . . . . . . . . . . . . . . . . . . . . . . . . . . . . . . . . . . . . . . . . . . . . . . . . . . . . . . . . . . . . . . . . . . . . . . . . . . . . . . . . . . . . . . . . . . . . . . . . . . . . . . . . . . . . . . . . . . . . . . . . . . . . . . . . . . . . . . . . . . . . . . . . . . . . . . . . . . . . . . . . . . . . . . . . . . . . . . . . . . . . . . . . . . . . . . . . . . . . . . . . . . . . . . . . . . . . . . . . . . . . . . . . . . . . . . . . . . . . . . . . . . . . . . . . . . . . . . . . . . . . . . . . . . . . . . . . . . . . . . . . . . . . . . . . . . . . . . . . . . . . . . . . . . . . . . . . . . . . . . . . . . . . . . . . . . . . . . . . . . . . . . . . . . . . . . . . . 2000\n",
      ". . . . . . . . . . . . . . . . . . . . . . . . . . . . . . . . . . . . . . . . . . . . . . . . . . . . . . . . . . . . . . . . . . . . . . . . . . . . . . . . . . . . . . . . . . . . . . . . . . . . . . . . . . . . . . . . . . . . . . . . . . . . . . . . . . . . . . . . . . . . . . . . . . . . . . . . . . . . . . . . . . . . . . . . . . . . . . . . . . . . . . . . . . . . . . . . . . . . . . . . . . . . . . . . . . . . . . . . . . . . . . . . . . . . . . . . . . . . . . . . . . . . . . . . . . . . . . . . . . . . . . . . . . . . . . . . . . . . . . . . . . . . . . . . . . . . . . . . . . . . . . . . . . . . . . . . . . . . . . . . . . . . . . . . . . . . . . . . . . . . . . . . . . . . . . . . . . . . . . . . . . . . . . . . . . . . . . . . . . . . . . . . . . . . . . . . . . . . . . . . . . . . . . . . . . . . . . . . . . . . . . . . . . . . . . . . . . . . . . . . . . . . . . . . . . . . . . . . . . . . . . . . . . . . . . . . . . . . . . . . . . . . . . . . . . . . . . . . . . . . . . . . . . . . . . . . . . . . . . . . . . . . . . . . . . . . . . . . . . . . . . . . . . . . . . . . . . . . . . . . . . . . . . . . . . . . . . . . . . . . . . . . . . . . . . . . . . . . . . . . . . . . . . . . . . . . . . . . . . . . . . . . . . . . . . . . . . . . . . . . . . . . . . . . . . . . . . . . . . . . . . . . . . . . . . . . . . . . . . . . . . . . . . . . . . . . . . . . . . . . . . . . . . . . . . . . . . . . . . . . . . . . . . . . . . . . . . . . . . . . . . . . . . . . . . . . . . . . . . . . . . . . . . . . . . . . . . . . . . . . . . . . . . . . . . . . . . . . . . . . . . . . . . . . . . . . . . . . . . . . . . . . . . . . . . . . . . . . . . . . . . . . . . . . . . . . . . . . . . . . . . . . . . . . . . . . . . . . . . . . . . . . . . . . . . . . . . . . . . . . . . . . . . . . . . . . . . . . . . . . . . . . . . . . . . . . . . . . . . . . . . . . . . . . . . . . . . . . . . . . . . . . . . . . . . . . . . . . . . . . . . . . . . . . . . . . . . . . . . . . 3000\n",
      ". . . . . . . . . . . . . . . . . . . . . . . . . . . . . . . . . . . . . . . . . . . . . . . . . . . . . . . . . . . . . . . . . . . . . . . . . . . . . . . . . . . . . . . . . . . . . . . . . . . . . . . . . . . . . . . . . . . . . . . . . . . . . . . . . . . . . . . . . . . . . . . . . . . . . . . . . . . . . . . . . . . . . . . . . . . . . . . . . . . . . . . . . . . . . . . . . . . . . . . . . . . . . . . . . . . . . . . . . . . . . . . . . . . . . . . . . . . . . . . . . . . . . . . . . . . . . . . . . . . . . . . . . . .\n"
     ]
    }
   ],
   "source": [
    "sql = 'select distinct formulary_drug_cd from mimiciii.prescriptions'\n",
    "cur = conn.cursor()\n",
    "cur.execute(sql)\n",
    "res = cur.fetchall()\n",
    "print 'len(res) = ' +str(len(res));\n",
    "\n",
    "numberOfAdmissionThatUseItemid = []\n",
    "i=0\n",
    "for r in res:\n",
    "    sql = 'select count(distinct hadm_id) from mimiciii.prescriptions where hadm_id in(' + admission_ids_txt + ') '\n",
    "    sql += 'and formulary_drug_cd = \\'' + r[0] + '\\''\n",
    "    \n",
    "    cur = conn.cursor()\n",
    "    cur.execute(sql)\n",
    "    r2 = cur.fetchall()\n",
    "    numberOfAdmissionThatUseItemid.append((r[0], r2[0],))\n",
    "    print '.',\n",
    "    if(i%1000==0): print i\n",
    "    i+=1\n",
    "    \n",
    "numberOfAdmissionThatUseItemid = sorted(numberOfAdmissionThatUseItemid, key=lambda tup: tup[1]);\n",
    "numberOfAdmissionThatUseItemid.reverse()\n",
    "\n",
    "prescript_itemid = []\n",
    "for r in numberOfAdmissionThatUseItemid:\n",
    "    prescript_itemid.append(r[0])"
   ]
  },
  {
   "cell_type": "markdown",
   "metadata": {},
   "source": [
    "# Prescriptions histogram\n",
    "- y-axis : number of distinct admission that uses particular medicine.\n",
    "- x-axis : a particular medicine."
   ]
  },
  {
   "cell_type": "code",
   "execution_count": 27,
   "metadata": {
    "collapsed": false,
    "scrolled": true
   },
   "outputs": [
    {
     "data": {
      "text/plain": [
       "<Container object of 3268 artists>"
      ]
     },
     "execution_count": 27,
     "metadata": {},
     "output_type": "execute_result"
    },
    {
     "data": {
      "image/png": "[encoded data removed]",
      "text/plain": [
       "<matplotlib.figure.Figure at 0x7f0f883ae190>"
      ]
     },
     "metadata": {},
     "output_type": "display_data"
    }
   ],
   "source": [
    "plt.figure(figsize=(20,5))\n",
    "plt.bar([i for i in range(len(numberOfAdmissionThatUseItemid))],[int(r[1][0]) for r in numberOfAdmissionThatUseItemid])"
   ]
  },
  {
   "cell_type": "markdown",
   "metadata": {},
   "source": [
    "# save the all the ID for next use"
   ]
  },
  {
   "cell_type": "code",
   "execution_count": null,
   "metadata": {
    "collapsed": true
   },
   "outputs": [],
   "source": [
    "database = {'input':input_itemid,\n",
    "            'output':output_itemid,\n",
    "            'chart':chart_itemid,\n",
    "            'lab':lab_itemid,\n",
    "            'microbio':microbio_itemid,\n",
    "            'prescript':prescript_itemid}\n",
    "np.save('res/itemids',database);\n",
    "print \"saved !\";"
   ]
  },
  {
   "cell_type": "code",
   "execution_count": null,
   "metadata": {
    "collapsed": true
   },
   "outputs": [],
   "source": []
  }
 ],
 "metadata": {
  "kernelspec": {
   "display_name": "Python 2",
   "language": "python",
   "name": "python2"
  },
  "language_info": {
   "codemirror_mode": {
    "name": "ipython",
    "version": 2
   },
   "file_extension": ".py",
   "mimetype": "text/x-python",
   "name": "python",
   "nbconvert_exporter": "python",
   "pygments_lexer": "ipython2",
   "version": "2.7.6"
  }
 },
 "nbformat": 4,
 "nbformat_minor": 0
}
