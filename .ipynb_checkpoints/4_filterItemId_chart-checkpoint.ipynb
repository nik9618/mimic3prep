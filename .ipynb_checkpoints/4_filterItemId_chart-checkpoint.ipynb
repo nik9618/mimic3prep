{
 "cells": [
  {
   "cell_type": "markdown",
   "metadata": {},
   "source": [
    "# filtering chartevent itemID\n",
    "This one we check the same way as inputevents.\n",
    "But for this table we need to also check that the value given is a numeric value, because this table does not enforce the field to be numeric."
   ]
  },
  {
   "cell_type": "code",
   "execution_count": 23,
   "metadata": {
    "collapsed": true
   },
   "outputs": [],
   "source": [
    "# DB connection:\n",
    "import psycopg2\n",
    "import datetime\n",
    "import sys\n",
    "from operator import itemgetter, attrgetter, methodcaller\n",
    "import numpy as np\n",
    "import itertools\n",
    "import os.path\n",
    "import matplotlib.pyplot as plt\n",
    "import math\n",
    "%matplotlib inline"
   ]
  },
  {
   "cell_type": "markdown",
   "metadata": {},
   "source": [
    "# connect DB"
   ]
  },
  {
   "cell_type": "code",
   "execution_count": 24,
   "metadata": {
    "collapsed": false
   },
   "outputs": [
    {
     "name": "stdout",
     "output_type": "stream",
     "text": [
      "connection established\n"
     ]
    }
   ],
   "source": [
    "try:\n",
    "    conn = psycopg2.connect(\"dbname='mimic' user='mimic' host='localhost' password='meladymimic315'\")\n",
    "except:\n",
    "    print \"I am unable to connect to the database\"\n",
    "print 'connection established'"
   ]
  },
  {
   "cell_type": "markdown",
   "metadata": {},
   "source": [
    "# load admissionID and itemID"
   ]
  },
  {
   "cell_type": "code",
   "execution_count": 25,
   "metadata": {
    "collapsed": false
   },
   "outputs": [],
   "source": [
    "_adm = np.load('res/admission_ids.npy').tolist()\n",
    "admission_ids = _adm['admission_ids']\n",
    "admission_ids_txt = _adm['admission_ids_txt']\n",
    "\n",
    "db = np.load('res/itemids.npy').tolist()\n",
    "input_itemid = db['input']\n",
    "output_itemid = db['output']\n",
    "chart_itemid = db['chart']\n",
    "lab_itemid = db['lab']\n",
    "microbio_itemid = db['microbio']\n",
    "prescript_itemid = db['prescript']"
   ]
  },
  {
   "cell_type": "markdown",
   "metadata": {
    "collapsed": true
   },
   "source": [
    "For each itemid first we check the unit of measurement as we did in inputevents. Then we continue to check if the observations more than 20% is not numeric then we also discard that itemID."
   ]
  },
  {
   "cell_type": "code",
   "execution_count": null,
   "metadata": {
    "collapsed": false,
    "scrolled": false
   },
   "outputs": [
    {
     "name": "stdout",
     "output_type": "stream",
     "text": [
      "Stool Guaiac QC\n",
      "CHART 227801 : 100.00\n",
      "UNITS : [('', 7071L)](1)\n",
      "Numeric observation :100.0000% ( NOTNUM= 0 / ALL= 7071 ) \n",
      "\n",
      "WBCScore_ApacheIV\n",
      "CHART 227063 : 100.00\n",
      "UNITS : [('', 7L)](1)\n",
      "Numeric observation :100.0000% ( NOTNUM= 0 / ALL= 7 ) \n",
      "\n",
      "Cardiac Output (CO NICOM)\n",
      "CHART 228369 : 100.00\n",
      "UNITS : [('L/min', 715L)](1)\n",
      "Numeric observation :100.0000% ( NOTNUM= 0 / ALL= 715 ) \n",
      "\n",
      "Presep Catheter Dressing Occlusive\n",
      "CHART 227419 : 100.00\n",
      "UNITS : [('', 456L)](1)\n",
      "Numeric observation :100.0000% ( NOTNUM= 0 / ALL= 456 ) \n",
      "\n",
      "ICU Consent Signed\n",
      "CHART 226185 : 100.00\n",
      "UNITS : [('', 5664L)](1)\n",
      "Numeric observation :100.0000% ( NOTNUM= 0 / ALL= 5664 ) \n",
      "\n",
      "Sheath Zero/Calibrate\n",
      "CHART 225771 : 100.00\n",
      "UNITS : [('', 519L)](1)\n",
      "Numeric observation :100.0000% ( NOTNUM= 0 / ALL= 519 ) \n",
      "\n",
      "PCA attempt\n",
      "CHART 224663 : 100.00\n",
      "UNITS : [('', 18966L)](1)\n",
      "Numeric observation :100.0000% ( NOTNUM= 0 / ALL= 18966 ) \n",
      "\n",
      "Cholesterol\n",
      "CHART 220603 : 100.00\n",
      "UNITS : [('mg/dL', 1402L)](1)\n",
      "Numeric observation :100.0000% ( NOTNUM= 0 / ALL= 1402 ) \n",
      "\n",
      "ICP Line Zero/Calibrate\n",
      "CHART 226134 : 100.00\n",
      "UNITS : [('', 2801L)](1)\n",
      "Numeric observation :100.0000% ( NOTNUM= 0 / ALL= 2801 ) \n",
      "\n",
      "Diabetes\n",
      "CHART 227007 : 100.00\n",
      "UNITS : [('', 6L)](1)\n",
      "Numeric observation :100.0000% ( NOTNUM= 0 / ALL= 6 ) "
     ]
    }
   ],
   "source": [
    "valid_chart = []\n",
    "valid_chart_unit = []\n",
    "valid_chart_cate = []\n",
    "dropped = []\n",
    "\n",
    "for i in chart_itemid:\n",
    "    # for each itemID select number of rows group by unit of measurement.\n",
    "    cur = conn.cursor()\n",
    "    cur.execute('SELECT valueuom, count(valueuom) FROM mimiciii.chartevents WHERE itemid = '+ str(i) +' and hadm_id in ('+admission_ids_txt+') group by valueuom')\n",
    "    chartunits = cur.fetchall()\n",
    "    chartunits = sorted(chartunits, key=lambda tup: tup[1])\n",
    "    chartunits.reverse()\n",
    "\n",
    "    # calculate percentage of the top frequent unit compared to all observation.\n",
    "    total = 0\n",
    "    for c in chartunits:\n",
    "        total += c[1]\n",
    "    if(total == 0 ): continue;\n",
    "    percentage = float(chartunits[0][1]) / total * 100.\n",
    "    \n",
    "    # select label of the itemID\n",
    "    cur = conn.cursor()\n",
    "    cur.execute('SELECT label FROM mimiciii.d_items WHERE itemid = '+ str(i))\n",
    "    label = cur.fetchone()\n",
    "    \n",
    "    # print and discard the one with many different units manually.\n",
    "    print label[0]\n",
    "    print \"CHART \"+str(i) + \" : \" + \"{:.2f}\".format(percentage)\n",
    "    print \"UNITS : \"+ str(chartunits) + \"({:d})\".format(len(chartunits))\n",
    "    \n",
    "    # count number of observation that has non numeric value\n",
    "    cur = conn.cursor()\n",
    "    cur.execute('SELECT count(*) FROM mimiciii.chartevents WHERE itemid = '+ str(i) +' and hadm_id in ('+admission_ids_txt+') and valuenum is null')\n",
    "    notnum = cur.fetchone()\n",
    "    \n",
    "    # total number of observation\n",
    "    cur = conn.cursor()\n",
    "    cur.execute('SELECT count(*) FROM mimiciii.chartevents WHERE itemid = '+ str(i) +' and hadm_id in ('+admission_ids_txt+')')\n",
    "    total = cur.fetchone()\n",
    "    \n",
    "    # if the percentage of numeric number is less, then dropped it, and make it categorical feature.\n",
    "    percentage =float(total[0] -notnum[0])*100 / total[0]\n",
    "    print \"Numeric observation :\" + \"{:.4f}%\".format(percentage)+ \" ( NOTNUM= \" + str(notnum[0]) + \" / ALL= \" + str(total[0]) + \" ) \"\n",
    "    if(percentage < 80): \n",
    "        print 'dropped\\n'\n",
    "        dropped.append(i)\n",
    "        continue;\n",
    "    print ''\n",
    "    \n",
    "    valid_chart.append(i);\n",
    "    valid_chart_unit.append(chartunits[0][0]);"
   ]
  },
  {
   "cell_type": "code",
   "execution_count": 30,
   "metadata": {
    "collapsed": false
   },
   "outputs": [
    {
     "name": "stdout",
     "output_type": "stream",
     "text": [
      "saved !\n"
     ]
    }
   ],
   "source": [
    "np.save('res/filtered_chart',{'id':valid_chart,'unit':valid_chart_unit});\n",
    "np.save('res/filtered_chart_cate',{'id':[223758],'unit':None});\n",
    "print \"saved !\";"
   ]
  },
  {
   "cell_type": "code",
   "execution_count": null,
   "metadata": {
    "collapsed": false
   },
   "outputs": [],
   "source": []
  },
  {
   "cell_type": "code",
   "execution_count": null,
   "metadata": {
    "collapsed": true
   },
   "outputs": [],
   "source": []
  },
  {
   "cell_type": "code",
   "execution_count": null,
   "metadata": {
    "collapsed": true
   },
   "outputs": [],
   "source": []
  },
  {
   "cell_type": "code",
   "execution_count": null,
   "metadata": {
    "collapsed": true
   },
   "outputs": [],
   "source": []
  },
  {
   "cell_type": "code",
   "execution_count": null,
   "metadata": {
    "collapsed": true
   },
   "outputs": [],
   "source": []
  },
  {
   "cell_type": "code",
   "execution_count": null,
   "metadata": {
    "collapsed": true
   },
   "outputs": [],
   "source": []
  },
  {
   "cell_type": "code",
   "execution_count": null,
   "metadata": {
    "collapsed": true
   },
   "outputs": [],
   "source": []
  }
 ],
 "metadata": {
  "kernelspec": {
   "display_name": "Python 2",
   "language": "python",
   "name": "python2"
  },
  "language_info": {
   "codemirror_mode": {
    "name": "ipython",
    "version": 2
   },
   "file_extension": ".py",
   "mimetype": "text/x-python",
   "name": "python",
   "nbconvert_exporter": "python",
   "pygments_lexer": "ipython2",
   "version": "2.7.6"
  }
 },
 "nbformat": 4,
 "nbformat_minor": 0
}
