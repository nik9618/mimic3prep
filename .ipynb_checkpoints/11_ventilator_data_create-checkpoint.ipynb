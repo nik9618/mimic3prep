{
 "cells": [
  {
   "cell_type": "code",
   "execution_count": 1,
   "metadata": {
    "collapsed": true
   },
   "outputs": [],
   "source": [
    "path = '/home/kanit/mimic3/DB_22000_3'\n",
    "block = 0"
   ]
  },
  {
   "cell_type": "code",
   "execution_count": 2,
   "metadata": {
    "collapsed": false
   },
   "outputs": [],
   "source": [
    "from utils import *\n",
    "import psycopg2\n",
    "import datetime\n",
    "import sys\n",
    "from operator import itemgetter, attrgetter, methodcaller\n",
    "import numpy as np\n",
    "import itertools\n",
    "import os.path\n",
    "import matplotlib.pyplot as plt\n",
    "import math\n",
    "%matplotlib inline"
   ]
  },
  {
   "cell_type": "code",
   "execution_count": 3,
   "metadata": {
    "collapsed": false
   },
   "outputs": [
    {
     "name": "stdout",
     "output_type": "stream",
     "text": [
      "connection established\n"
     ]
    }
   ],
   "source": [
    "try:\n",
    "    conn = psycopg2.connect(\"dbname='mimic' user='mimic' host='localhost' password='meladymimic315'\")\n",
    "except:\n",
    "    print \"I am unable to connect to the database\"\n",
    "print 'connection established'"
   ]
  },
  {
   "cell_type": "code",
   "execution_count": 4,
   "metadata": {
    "collapsed": false
   },
   "outputs": [],
   "source": [
    "v = np.load('res/filtered_input.npy').tolist()\n",
    "valid_input = v['id']\n",
    "valid_input_unit = v['unit']\n",
    "\n",
    "v = np.load('res/filtered_output.npy').tolist()\n",
    "valid_output = v['id']\n",
    "\n",
    "v = np.load('res/filtered_chart.npy').tolist()\n",
    "valid_chart = v['id']\n",
    "valid_chart_unit = v['unit']\n",
    "\n",
    "v = np.load('res/filtered_chart_cate.npy').tolist()\n",
    "valid_chart_cate = v['id']\n",
    "\n",
    "v = np.load('res/filtered_lab.npy').tolist()\n",
    "valid_lab = v['id']\n",
    "valid_lab_unit = v['unit']\n",
    "\n",
    "v = np.load('res/filtered_lab_num.npy').tolist()\n",
    "valid_lab_num = v['id']\n",
    "valid_lab_num_unit = v['unit']\n",
    "\n",
    "v = np.load('res/filtered_lab_cate.npy').tolist()\n",
    "valid_lab_cate = v['id']\n",
    "\n",
    "v = np.load('res/filtered_microbio.npy').tolist()\n",
    "valid_microbio = v['id']\n",
    "\n",
    "v = np.load('res/filtered_prescript.npy').tolist()\n",
    "valid_prescript = v['id']\n",
    "valid_prescript_unit = v['unit']\n",
    "allids = valid_input+valid_output+valid_chart+valid_chart_cate+valid_lab+valid_lab_num+valid_lab_cate+valid_microbio+valid_prescript"
   ]
  },
  {
   "cell_type": "code",
   "execution_count": 5,
   "metadata": {
    "collapsed": false,
    "scrolled": true
   },
   "outputs": [
    {
     "name": "stdout",
     "output_type": "stream",
     "text": [
      "len(valid_input) = 277\n",
      "len(valid_output) = 68\n",
      "len(valid_chart) = 660\n",
      "len(valid_chart_cate) = 1\n",
      "len(valid_lab) = 372\n",
      "len(valid_lab_num) = 54\n",
      "len(valid_lab_cate) = 231\n",
      "len(valid_microbio) = 9085\n",
      "len(valid_prescript) = 2371\n",
      "\n",
      "len(allids) = 13119\n"
     ]
    }
   ],
   "source": [
    "print 'len(valid_input) = '+ str(len(valid_input))\n",
    "print 'len(valid_output) = '+ str(len(valid_output))\n",
    "print 'len(valid_chart) = '+ str(len(valid_chart))\n",
    "print 'len(valid_chart_cate) = '+ str(len(valid_chart_cate))\n",
    "print 'len(valid_lab) = '+ str(len(valid_lab))\n",
    "print 'len(valid_lab_num) = '+ str(len(valid_lab_num))\n",
    "print 'len(valid_lab_cate) = '+ str(len(valid_lab_cate))\n",
    "print 'len(valid_microbio) = '+ str(len(valid_microbio))\n",
    "print 'len(valid_prescript) = '+ str(len(valid_prescript))\n",
    "print '\\nlen(allids) = '+ str(len(allids) )"
   ]
  },
  {
   "cell_type": "code",
   "execution_count": 6,
   "metadata": {
    "collapsed": false
   },
   "outputs": [],
   "source": [
    "valid_input_txt =\"\"\n",
    "for t in valid_input:\n",
    "    valid_input_txt += str(t)+\",\"\n",
    "valid_input_txt=valid_input_txt[0:-1]\n",
    "\n",
    "valid_output_txt =\"\"\n",
    "for t in valid_output:\n",
    "    valid_output_txt += str(t)+\",\"\n",
    "valid_output_txt=valid_output_txt[0:-1]\n",
    "\n",
    "valid_chart_txt =\"\"\n",
    "for t in valid_chart:\n",
    "    valid_chart_txt += str(t)+\",\"\n",
    "valid_chart_txt=valid_chart_txt[0:-1]\n",
    "\n",
    "valid_chart_cate_txt =\"\"\n",
    "for t in valid_chart_cate:\n",
    "    valid_chart_cate_txt += str(t)+\",\"\n",
    "valid_chart_cate_txt=valid_chart_cate_txt[0:-1]\n",
    "\n",
    "valid_lab_txt =\"\"\n",
    "for t in valid_lab:\n",
    "    valid_lab_txt += str(t)+\",\"\n",
    "valid_lab_txt=valid_lab_txt[0:-1]\n",
    "\n",
    "valid_lab_num_txt =\"\"\n",
    "for t in valid_lab_num:\n",
    "    valid_lab_num_txt += str(t)+\",\"\n",
    "valid_lab_num_txt=valid_lab_num_txt[0:-1]\n",
    "\n",
    "valid_lab_cate_txt =\"\"\n",
    "for t in valid_lab_cate:\n",
    "    valid_lab_cate_txt += str(t)+\",\"\n",
    "valid_lab_cate_txt=valid_lab_cate_txt[0:-1]\n",
    "\n",
    "valid_microbio_txt =\"'\"\n",
    "for t in valid_microbio:\n",
    "    valid_microbio_txt += str(t)+\"','\"\n",
    "valid_microbio_txt=valid_microbio_txt[0:-2]\n",
    "\n",
    "valid_prescript_txt =\"'\"\n",
    "for t in valid_prescript:\n",
    "    valid_prescript_txt += str(t)+\"','\"\n",
    "valid_prescript_txt=valid_prescript_txt[0:-2]"
   ]
  },
  {
   "cell_type": "code",
   "execution_count": 7,
   "metadata": {
    "collapsed": false
   },
   "outputs": [],
   "source": [
    "index =0\n",
    "map_itemid_index = {}\n",
    "allitem = valid_output + valid_input + valid_chart + valid_chart_cate + valid_lab + valid_lab_num + valid_lab_cate + valid_microbio + valid_prescript\n",
    "allitem_unit = ['NOCHECK']*len(valid_output) + valid_input_unit + valid_chart_unit +['NOCHECK'] + valid_lab_unit + valid_lab_num_unit+ ['NOCHECK']*len(valid_lab_cate)+ ['NOCHECK']*len(valid_microbio) + valid_prescript_unit\n",
    "for i in range(len(allitem_unit)):\n",
    "    allitem_unit[i] = allitem_unit[i].replace(' ','').lower()\n",
    "assert len(allitem) == len(allitem_unit)\n",
    "for ai in allitem:\n",
    "    map_itemid_index[ai] = index\n",
    "    index+=1"
   ]
  },
  {
   "cell_type": "code",
   "execution_count": 10,
   "metadata": {
    "collapsed": false
   },
   "outputs": [
    {
     "name": "stdout",
     "output_type": "stream",
     "text": [
      "DONE\n"
     ]
    }
   ],
   "source": [
    "features = [224828,223835,227443,224697,220235,220224,220339,224700,50819,223830,220274,227037,50820,224695,224685,224686,224684,50826]\n",
    "file = open(path+'/log/stdout','w')\n",
    "total = [];\n",
    "count = [];\n",
    "for i in range(0,24000):\n",
    "    try:\n",
    "        data = np.load(path+'/adm-'+str(\"%.6d.npy\" % i)).tolist()\n",
    "    except:\n",
    "        file.write(str(i)+'not found\\n');\n",
    "        continue;\n",
    "    mat = data['timeseries']\n",
    "    mat = coodecode(mat['codes'],mat['features'],mat['timestep'])\n",
    "    ans = []\n",
    "    for t in mat:\n",
    "        ts = []\n",
    "        add = 0;\n",
    "        for f in features:\n",
    "            ts.append(t[map_itemid_index[f]])\n",
    "            if(t[map_itemid_index[f]] != None) : \n",
    "                add+=1\n",
    "        ts.append(t[-2])\n",
    "        ts.append(t[-1])\n",
    "        \n",
    "        if(add>0):\n",
    "            ans.append(ts)\n",
    "    \n",
    "    if(len(ans) > 0):\n",
    "        data['timeseries'] = ans;\n",
    "        total.append(list(data));\n",
    "        file.write(str(i)+' Done\\n')\n",
    "        count.append(len(data['timeseries']))\n",
    "    else:\n",
    "        file.write(str(i)+'discarded zero timestep\\n')\n",
    "\n",
    "    file.flush()\n",
    "    break;\n",
    "print 'DONE'"
   ]
  },
  {
   "cell_type": "code",
   "execution_count": 12,
   "metadata": {
    "collapsed": false
   },
   "outputs": [],
   "source": [
    "np.save(path+'vent_04042016',total)"
   ]
  },
  {
   "cell_type": "code",
   "execution_count": 16,
   "metadata": {
    "collapsed": false
   },
   "outputs": [
    {
     "data": {
      "text/plain": [
       "['icd9', 'timeseries', 'general']"
      ]
     },
     "execution_count": 16,
     "metadata": {},
     "output_type": "execute_result"
    }
   ],
   "source": [
    "total[0]"
   ]
  },
  {
   "cell_type": "code",
   "execution_count": null,
   "metadata": {
    "collapsed": true
   },
   "outputs": [],
   "source": []
  },
  {
   "cell_type": "code",
   "execution_count": null,
   "metadata": {
    "collapsed": true
   },
   "outputs": [],
   "source": []
  },
  {
   "cell_type": "code",
   "execution_count": null,
   "metadata": {
    "collapsed": true
   },
   "outputs": [],
   "source": [
    "a=2\n"
   ]
  },
  {
   "cell_type": "code",
   "execution_count": null,
   "metadata": {
    "collapsed": false
   },
   "outputs": [],
   "source": [
    "print a+2"
   ]
  },
  {
   "cell_type": "code",
   "execution_count": null,
   "metadata": {
    "collapsed": true
   },
   "outputs": [],
   "source": []
  },
  {
   "cell_type": "code",
   "execution_count": null,
   "metadata": {
    "collapsed": true
   },
   "outputs": [],
   "source": []
  },
  {
   "cell_type": "code",
   "execution_count": null,
   "metadata": {
    "collapsed": false
   },
   "outputs": [],
   "source": []
  },
  {
   "cell_type": "code",
   "execution_count": null,
   "metadata": {
    "collapsed": true
   },
   "outputs": [],
   "source": []
  }
 ],
 "metadata": {
  "kernelspec": {
   "display_name": "Python 2",
   "language": "python",
   "name": "python2"
  },
  "language_info": {
   "codemirror_mode": {
    "name": "ipython",
    "version": 2
   },
   "file_extension": ".py",
   "mimetype": "text/x-python",
   "name": "python",
   "nbconvert_exporter": "python",
   "pygments_lexer": "ipython2",
   "version": "2.7.6"
  }
 },
 "nbformat": 4,
 "nbformat_minor": 0
}
