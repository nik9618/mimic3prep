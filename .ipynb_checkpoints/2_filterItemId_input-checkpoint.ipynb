{
 "cells": [
  {
   "cell_type": "markdown",
   "metadata": {},
   "source": [
    "# Inputevents Filtering\n",
    "1. This file calculates number of observation per unit of measurement per itemid.\n",
    "2. We iterate through all ItemID, we keep that itemID if some unit of measurement has more than 95% of all observation for that itemID, otherwise, we discard it.\n",
    "3. Actually this table is quite clean, we do not have to discard any itemid. You can see the result below.\n",
    "4. For some itemid that has many unit of measurement, in next step, we will adjust the measurement value based on its unit.\n",
    "\n",
    "# Product of this File \n",
    "1. itemid of observations for inputevents.\n",
    "2. unit of measurement for each itemid "
   ]
  },
  {
   "cell_type": "code",
   "execution_count": 3,
   "metadata": {
    "collapsed": true
   },
   "outputs": [],
   "source": [
    "# DB connection:\n",
    "import psycopg2\n",
    "import datetime\n",
    "import sys\n",
    "from operator import itemgetter, attrgetter, methodcaller\n",
    "import numpy as np\n",
    "import itertools\n",
    "import os.path\n",
    "import matplotlib.pyplot as plt\n",
    "import math\n",
    "%matplotlib inline"
   ]
  },
  {
   "cell_type": "markdown",
   "metadata": {
    "collapsed": false
   },
   "source": [
    "# connect to DB"
   ]
  },
  {
   "cell_type": "code",
   "execution_count": null,
   "metadata": {
    "collapsed": true
   },
   "outputs": [],
   "source": [
    "try:\n",
    "    conn = psycopg2.connect(\"dbname='mimic' user='mimic' host='localhost' password='meladymimic315'\")\n",
    "except:\n",
    "    print \"I am unable to connect to the database\"\n",
    "print 'connection established'"
   ]
  },
  {
   "cell_type": "markdown",
   "metadata": {},
   "source": [
    "# load admissionID and itemID"
   ]
  },
  {
   "cell_type": "code",
   "execution_count": 7,
   "metadata": {
    "collapsed": false
   },
   "outputs": [],
   "source": [
    "_adm = np.load('res/admission_ids.npy').tolist()\n",
    "admission_ids = _adm['admission_ids']\n",
    "admission_ids_txt = _adm['admission_ids_txt']\n",
    "\n",
    "db = np.load('res/itemids.npy').tolist()\n",
    "input_itemid = db['input']\n",
    "output_itemid = db['output']\n",
    "chart_itemid = db['chart']\n",
    "lab_itemid = db['lab']\n",
    "microbio_itemid = db['microbio']\n",
    "prescript_itemid = db['prescript']"
   ]
  },
  {
   "cell_type": "code",
   "execution_count": 8,
   "metadata": {
    "collapsed": true
   },
   "outputs": [],
   "source": [
    "valid_input = []\n",
    "valid_input_unit = []"
   ]
  },
  {
   "cell_type": "markdown",
   "metadata": {},
   "source": [
    "# iterate thru each itemID\n",
    "For each item id, we count number of observations for each unit of measurement.\n",
    "\n",
    "For example,\n",
    "IN 225883 : 98.24 : 3 : [('dose', 16477L), ('mg', 251L), ('grams', 44L)]\n",
    "This means that for itemid 225883, there are:\n",
    "1. 16477 records using dose as its unit of measurement.\n",
    "2. 251 records using mg as its unit of measurement.\n",
    "3. 44 records using grams as its unit of measurement.\n",
    "\n",
    "dose has 98.24% over all the observations for this itemid, we can say that dose is a majority unit. \n",
    "1. We will keep this itemid because 98% is high. we can relatively safe to discard the observations that has different unit of measurement. i.e. if we discard mg and grams, we lose 251+44 records which is little, compared to 16477 records we can keep.\n",
    "2. We will record main unit of measurement for this itemID as dose."
   ]
  },
  {
   "cell_type": "code",
   "execution_count": 11,
   "metadata": {
    "collapsed": false,
    "scrolled": false
   },
   "outputs": [
    {
     "name": "stdout",
     "output_type": "stream",
     "text": [
      "IN 225935 : 100.00 : 1 : [('mL', 4727L)]\n",
      "IN 225936 : 100.00 : 1 : [('mL', 30797L)]\n",
      "IN 228356 : 100.00 : 1 : [('mL', 1L)]\n",
      "IN 226022 : 100.00 : 1 : [('mL', 78L)]\n",
      "IN 226050 : 100.00 : 1 : [('mL', 300L)]\n",
      "IN 225883 : 98.24 : 3 : [('dose', 16477L), ('mg', 251L), ('grams', 44L)]\n",
      "IN 225931 : 100.00 : 1 : [('mL', 6804L)]\n",
      "IN 221036 : 100.00 : 1 : [('mL', 3122L)]\n",
      "IN 225851 : 98.44 : 3 : [('dose', 14371L), ('grams', 219L), ('mg', 9L)]\n",
      "IN 222062 : 99.85 : 2 : [('mg', 651L), ('mcg', 1L)]\n",
      "IN 222151 : 100.00 : 1 : [('mg', 51L)]\n",
      "IN 225862 : 98.88 : 2 : [('dose', 265L), ('mg', 3L)]\n",
      "IN 225157 : 100.00 : 1 : [('mg', 11L)]\n",
      "IN 225929 : 100.00 : 1 : [('mL', 609L)]\n",
      "IN 227532 : 100.00 : 1 : [('mL', 86L)]\n",
      "IN 227978 : 100.00 : 1 : [('mL', 19L)]\n",
      "IN 225915 : 100.00 : 1 : [('units', 5L)]\n",
      "IN 225969 : 100.00 : 1 : [('grams', 1363L)]\n",
      "IN 222051 : 100.00 : 1 : [('mg', 4462L)]\n",
      "IN 227528 : 100.00 : 1 : [('mL', 311L)]\n",
      "IN 225993 : 100.00 : 1 : [('ounces', 1L)]\n",
      "IN 225830 : 100.00 : 1 : [('mL', 1373L)]\n",
      "IN 226027 : 100.00 : 1 : [('mL', 8L)]\n",
      "IN 226881 : 100.00 : 1 : [('mL', 26L)]\n",
      "IN 225799 : 100.00 : 1 : [('mL', 96025L)]\n",
      "IN 220970 : 100.00 : 1 : [('mL', 8335L)]\n",
      "IN 222042 : 100.00 : 1 : [('mg', 13568L)]\n",
      "IN 225147 : 100.00 : 1 : [('mg', 1065L)]\n",
      "IN 228133 : 100.00 : 1 : [('mL', 2L)]\n",
      "IN 220864 : 100.00 : 1 : [('mL', 7458L)]\n",
      "IN 223262 : 100.00 : 1 : [('units', 31341L)]\n",
      "IN 225913 : 88.23 : 3 : [('dose', 877L), ('mg', 116L), ('grams', 1L)]\n",
      "IN 226375 : 100.00 : 1 : [('mL', 440L)]\n",
      "IN 225156 : 100.00 : 1 : [('mg', 422L)]\n",
      "IN 221623 : 100.00 : 1 : [('mg', 3667L)]\n",
      "IN 225837 : 99.05 : 4 : [('dose', 4067L), ('mg', 37L), ('mcg', 1L), ('grams', 1L)]\n",
      "IN 226372 : 100.00 : 1 : [('mL', 1894L)]\n",
      "IN 225834 : 100.00 : 1 : [('mmol', 5569L)]\n",
      "IN 226880 : 100.00 : 1 : [('mL', 10161L)]\n",
      "IN 225908 : 100.00 : 1 : [('dose', 153L)]\n",
      "IN 225848 : 96.86 : 2 : [('dose', 278L), ('mg', 9L)]\n",
      "IN 226023 : 100.00 : 1 : [('mL', 58L)]\n",
      "IN 228141 : 100.00 : 1 : [('mL', 4L)]\n",
      "IN 220862 : 100.00 : 1 : [('mL', 9794L)]\n",
      "IN 227524 : 100.00 : 1 : [('grams', 26L)]\n",
      "IN 227370 : 100.00 : 1 : [('mL', 1L)]\n",
      "IN 225885 : 99.01 : 2 : [('dose', 1604L), ('mg', 16L)]\n",
      "IN 225148 : 100.00 : 1 : [('mg', 205L)]\n",
      "IN 225173 : 100.00 : 1 : [('mL', 19L)]\n",
      "IN 225835 : 100.00 : 1 : [('mmol', 1583L)]\n",
      "IN 228339 : 100.00 : 1 : [('mg', 1751L)]\n",
      "IN 225866 : 94.58 : 2 : [('dose', 523L), ('mg', 30L)]\n",
      "IN 225847 : 99.14 : 2 : [('dose', 1608L), ('mg', 14L)]\n",
      "IN 227520 : 100.00 : 1 : [('mg', 1482L)]\n",
      "IN 225991 : 100.00 : 1 : [('mL', 2L)]\n",
      "IN 221906 : 100.00 : 2 : [('mg', 88529L), ('mcg', 4L)]\n",
      "IN 221385 : 100.00 : 1 : [('mg', 18520L)]\n",
      "IN 225899 : 97.17 : 2 : [('dose', 1748L), ('mg', 51L)]\n",
      "IN 225832 : 99.94 : 2 : [('mg', 1661L), ('dose', 1L)]\n",
      "IN 228348 : 100.00 : 1 : [('mL', 3L)]\n",
      "IN 225905 : 98.46 : 2 : [('dose', 829L), ('mg', 13L)]\n",
      "IN 225859 : 99.00 : 2 : [('dose', 10975L), ('mg', 111L)]\n",
      "IN 225843 : 98.28 : 2 : [('dose', 3491L), ('grams', 61L)]\n",
      "IN 226368 : 100.00 : 1 : [('mL', 1993L)]\n",
      "IN 226875 : 100.00 : 1 : [('mL', 1L)]\n",
      "IN 225886 : 100.00 : 1 : [('dose', 9L)]\n",
      "IN 228140 : 100.00 : 1 : [('mL', 82L)]\n",
      "IN 225153 : 99.99 : 2 : [('mg', 9177L), ('dose', 1L)]\n",
      "IN 225975 : 99.99 : 3 : [('dose', 76509L), ('mg', 7L), ('mcg', 1L)]\n",
      "IN 226044 : 100.00 : 1 : [('mL', 9L)]\n",
      "IN 225934 : 100.00 : 1 : [('mL', 2082L)]\n",
      "IN 228340 : 100.00 : 1 : [('mg', 2392L)]\n",
      "IN 226363 : 100.00 : 1 : [('mL', 1003L)]\n",
      "IN 222037 : 100.00 : 1 : [('mg', 35L)]\n",
      "IN 226369 : 100.00 : 1 : [('mL', 780L)]\n",
      "IN 225868 : 100.00 : 1 : [('dose', 7L)]\n",
      "IN 225842 : 98.25 : 3 : [('dose', 3650L), ('grams', 64L), ('mg', 1L)]\n",
      "IN 227536 : 99.96 : 2 : [('mEq.', 26552L), ('ml/hr', 10L)]\n",
      "IN 225174 : 100.00 : 1 : [('mL', 81L)]\n",
      "IN 221456 : 100.00 : 2 : [('grams', 23647L), ('mg', 1L)]\n",
      "IN 227694 : 99.71 : 2 : [('dose', 1379L), ('mg', 4L)]\n",
      "IN 225970 : 100.00 : 1 : [('grams', 11351L)]\n",
      "IN 226882 : 100.00 : 1 : [('mL', 49L)]\n",
      "IN 225876 : 99.25 : 2 : [('dose', 132L), ('mg', 1L)]\n",
      "IN 228364 : 100.00 : 1 : [('mL', 14L)]\n",
      "IN 225167 : 100.00 : 1 : [('mEq', 37L)]\n",
      "IN 226038 : 100.00 : 1 : [('mL', 118L)]\n",
      "IN 225171 : 100.00 : 1 : [('mL', 1071L)]\n",
      "IN 225895 : 100.00 : 1 : [('dose', 8L)]\n",
      "IN 225937 : 100.00 : 1 : [('mL', 481L)]\n",
      "IN 227699 : 100.00 : 1 : [('mL', 56L)]\n",
      "IN 227691 : 97.87 : 2 : [('dose', 92L), ('mg', 2L)]\n",
      "IN 226453 : 100.00 : 1 : [('mL', 62737L)]\n",
      "IN 226017 : 100.00 : 1 : [('mL', 38L)]\n",
      "IN 220995 : 99.91 : 2 : [('mEq', 6477L), ('/hour', 6L)]\n",
      "IN 225860 : 96.70 : 2 : [('dose', 2253L), ('mg', 77L)]\n",
      "IN 227535 : 100.00 : 1 : [('mg', 321L)]\n",
      "IN 221555 : 99.99 : 2 : [('mg', 9295L), ('mcg', 1L)]\n",
      "IN 225896 : 100.00 : 1 : [('dose', 1L)]\n",
      "IN 225825 : 100.00 : 1 : [('mL', 3781L)]\n",
      "IN 226045 : 100.00 : 1 : [('mL', 58L)]\n",
      "IN 226028 : 100.00 : 1 : [('mL', 11L)]\n",
      "IN 227534 : 100.00 : 1 : [('mg', 43L)]\n",
      "IN 225150 : 96.41 : 2 : [('mcg', 14697L), ('mg', 547L)]\n",
      "IN 225161 : 100.00 : 1 : [('mL', 1674L)]\n",
      "IN 227522 : 100.00 : 1 : [('mL', 37852L)]\n",
      "IN 225911 : 99.84 : 2 : [('dose', 3102L), ('mg', 5L)]\n",
      "IN 222190 : 100.00 : 1 : [('mg', 92L)]\n",
      "IN 225170 : 100.00 : 1 : [('mL', 4066L)]\n",
      "IN 226019 : 100.00 : 1 : [('mL', 74L)]\n",
      "IN 225888 : 99.11 : 4 : [('dose', 4915L), ('grams', 30L), ('mg', 9L), ('mcg', 5L)]\n",
      "IN 225158 : 100.00 : 2 : [('mL', 520300L), ('L', 1L)]\n",
      "IN 225877 : 100.00 : 1 : [('dose', 6L)]\n",
      "IN 221468 : 100.00 : 1 : [('mg', 8697L)]\n",
      "IN 227518 : 100.00 : 1 : [('mL', 151L)]\n",
      "IN 225881 : 99.15 : 2 : [('dose', 2923L), ('mg', 25L)]\n",
      "IN 228135 : 100.00 : 1 : [('mL', 6581L)]\n",
      "IN 225974 : 100.00 : 2 : [('mg', 31016L), ('mcg', 1L)]\n",
      "IN 226024 : 100.00 : 1 : [('mL', 2L)]\n",
      "IN 225910 : 74.91 : 2 : [('dose', 20343L), ('mg', 6814L)]\n",
      "IN 228132 : 100.00 : 1 : [('mL', 13L)]\n",
      "IN 225875 : 95.48 : 2 : [('dose', 1562L), ('mg', 74L)]\n",
      "IN 225903 : 100.00 : 1 : [('dose', 39L)]\n",
      "IN 225152 : 100.00 : 1 : [('units', 32178L)]\n",
      "IN 226047 : 100.00 : 1 : [('mL', 214L)]\n",
      "IN 226048 : 100.00 : 1 : [('mL', 104L)]\n",
      "IN 225902 : 99.13 : 2 : [('dose', 801L), ('mg', 7L)]\n",
      "IN 221744 : 81.09 : 2 : [('mcg', 68471L), ('mg', 15968L)]\n",
      "IN 221733 : 100.00 : 1 : [('International Units', 14L)]\n",
      "IN 225890 : 99.90 : 2 : [('dose', 1001L), ('mg', 1L)]\n",
      "IN 225973 : 100.00 : 1 : [('mg', 595L)]\n",
      "IN 226370 : 100.00 : 1 : [('mL', 82L)]\n",
      "IN 223257 : 100.00 : 1 : [('units', 439L)]\n",
      "IN 226030 : 100.00 : 1 : [('mL', 135L)]\n",
      "IN 225827 : 100.00 : 1 : [('mL', 939L)]\n",
      "IN 221429 : 100.00 : 1 : [('mg', 4878L)]\n",
      "IN 227529 : 100.00 : 1 : [('mL', 17158L)]\n",
      "IN 221319 : 100.00 : 1 : [('mg', 79L)]\n",
      "IN 226046 : 100.00 : 1 : [('mL', 252L)]\n",
      "IN 225994 : 100.00 : 1 : [('mL', 4L)]\n",
      "IN 226089 : 100.00 : 1 : [('mL', 35225L)]\n",
      "IN 227523 : 100.00 : 1 : [('mL', 17840L)]\n",
      "IN 228383 : 100.00 : 1 : [('mL', 1013L)]\n",
      "IN 226364 : 100.00 : 1 : [('mL', 7026L)]\n",
      "IN 225159 : 100.00 : 1 : [('mL', 7952L)]\n",
      "IN 221689 : 100.00 : 1 : [('mg', 132L)]\n",
      "IN 228351 : 100.00 : 1 : [('mL', 1271L)]\n",
      "IN 225798 : 98.47 : 4 : [('dose', 44942L), ('mg', 542L), ('grams', 153L), ('mcg', 2L)]\n",
      "IN 225154 : 99.99 : 2 : [('mg', 40613L), ('mcg', 3L)]\n",
      "IN 225920 : 100.00 : 1 : [('mL', 340L)]\n",
      "IN 225893 : 99.82 : 3 : [('dose', 26573L), ('mg', 27L), ('grams', 22L)]\n",
      "IN 226020 : 100.00 : 1 : [('mL', 15L)]\n",
      "IN 220950 : 100.00 : 1 : [('mL', 1569L)]\n",
      "IN 225947 : 100.00 : 1 : [('grams', 2219L)]\n",
      "IN 226036 : 100.00 : 1 : [('mL', 34L)]\n",
      "IN 225823 : 100.00 : 1 : [('mL', 17231L)]\n",
      "IN 225155 : 99.72 : 2 : [('mg', 2873L), ('mcg', 8L)]\n",
      "IN 227692 : 100.00 : 1 : [('mg', 81L)]\n",
      "IN 228142 : 100.00 : 1 : [('mL', 52L)]\n",
      "IN 221749 : 100.00 : 1 : [('mg', 93032L)]\n",
      "IN 227976 : 100.00 : 1 : [('mL', 1L)]\n",
      "IN 228341 : 100.00 : 1 : [('mL', 14L)]\n",
      "IN 226361 : 99.94 : 2 : [('mL', 6634L), ('L', 4L)]\n",
      "IN 225853 : 97.94 : 2 : [('dose', 1757L), ('grams', 37L)]\n",
      "IN 226051 : 100.00 : 1 : [('mL', 337L)]\n",
      "IN 221668 : 100.00 : 1 : [('mg', 69985L)]\n",
      "IN 225168 : 100.00 : 1 : [('mL', 24420L)]\n",
      "IN 220952 : 100.00 : 1 : [('mL', 3774L)]\n",
      "IN 221347 : 100.00 : 1 : [('mg', 8302L)]\n",
      "IN 227973 : 100.00 : 1 : [('mL', 186L)]\n",
      "IN 228003 : 90.41 : 2 : [('dose', 66L), ('mg', 7L)]\n",
      "IN 225995 : 100.00 : 1 : [('mL', 5L)]\n",
      "IN 223259 : 100.00 : 1 : [('units', 3422L)]\n",
      "IN 225869 : 98.39 : 2 : [('dose', 2015L), ('mg', 33L)]\n",
      "IN 222318 : 100.00 : 1 : [('mg', 56L)]\n",
      "IN 228134 : 100.00 : 1 : [('mL', 30L)]\n",
      "IN 225945 : 100.00 : 1 : [('mg', 512L)]\n",
      "IN 220949 : 100.00 : 1 : [('mL', 400189L)]\n",
      "IN 223261 : 100.00 : 1 : [('units', 160L)]\n",
      "IN 225828 : 100.00 : 2 : [('mL', 49491L), ('L', 1L)]\n",
      "IN 226365 : 100.00 : 1 : [('mL', 999L)]\n",
      "IN 225833 : 99.65 : 2 : [('mg', 2559L), ('dose', 9L)]\n",
      "IN 221833 : 99.98 : 3 : [('mg', 32406L), ('mcg', 5L), ('dose', 2L)]\n",
      "IN 225871 : 93.33 : 2 : [('dose', 14L), ('mg', 1L)]\n",
      "IN 227977 : 100.00 : 1 : [('mL', 28L)]\n",
      "IN 221892 : 100.00 : 1 : [('mg', 19L)]\n",
      "IN 221794 : 99.99 : 2 : [('mg', 46931L), ('dose', 3L)]\n",
      "IN 226026 : 100.00 : 1 : [('mL', 59L)]\n",
      "IN 225906 : 99.23 : 2 : [('dose', 1674L), ('mg', 13L)]\n",
      "IN 225884 : 99.12 : 3 : [('dose', 21597L), ('mg', 191L), ('grams', 1L)]\n",
      "IN 228131 : 100.00 : 1 : [('mL', 106L)]\n",
      "IN 225928 : 100.00 : 1 : [('mL', 1045L)]\n",
      "IN 226877 : 100.00 : 1 : [('mL', 79L)]\n",
      "IN 222021 : 97.23 : 2 : [('mg', 281L), ('mcg', 8L)]\n",
      "IN 227696 : 100.00 : 1 : [('mL', 96L)]\n",
      "IN 225943 : 100.00 : 1 : [('mL', 243873L)]\n",
      "IN 227698 : 100.00 : 1 : [('mL', 33L)]\n",
      "IN 225879 : 98.61 : 3 : [('dose', 3125L), ('mg', 43L), ('grams', 1L)]\n",
      "IN 225844 : 95.65 : 2 : [('dose', 44L), ('mg', 2L)]\n",
      "IN 225865 : 100.00 : 1 : [('dose', 430L)]\n",
      "IN 221207 : 100.00 : 1 : [('mL', 354L)]\n",
      "IN 225996 : 100.00 : 1 : [('mL', 3L)]\n",
      "IN 221662 : 100.00 : 1 : [('mg', 11330L)]\n",
      "IN 221986 : 100.00 : 1 : [('mg', 6249L)]\n",
      "IN 226377 : 100.00 : 1 : [('mL', 16L)]\n",
      "IN 221261 : 100.00 : 1 : [('mg', 7L)]\n",
      "IN 227979 : 100.00 : 1 : [('mL', 5669L)]\n",
      "IN 221828 : 100.00 : 1 : [('mg', 12386L)]\n",
      "IN 225948 : 99.84 : 2 : [('grams', 2540L), ('dose', 4L)]\n",
      "IN 227974 : 100.00 : 1 : [('mL', 93L)]\n",
      "IN 226058 : 100.00 : 1 : [('mL', 12L)]\n",
      "IN 223258 : 100.00 : 1 : [('units', 118565L)]\n",
      "IN 227525 : 100.00 : 1 : [('grams', 15579L)]\n",
      "IN 228367 : 100.00 : 1 : [('mL', 1991L)]\n",
      "IN 228361 : 100.00 : 1 : [('mL', 1L)]\n",
      "IN 222168 : 99.97 : 2 : [('mg', 177116L), ('mcg', 45L)]\n",
      "IN 225916 : 100.00 : 1 : [('mL', 5873L)]\n",
      "IN 222011 : 100.00 : 1 : [('grams', 25595L)]\n",
      "IN 225863 : 99.03 : 2 : [('dose', 915L), ('mg', 9L)]\n",
      "IN 222056 : 100.00 : 1 : [('mg', 31473L)]\n",
      "IN 225892 : 99.78 : 3 : [('dose', 5452L), ('mg', 7L), ('grams', 5L)]\n",
      "IN 221824 : 100.00 : 1 : [('mg', 5324L)]\n",
      "IN 226049 : 100.00 : 1 : [('mL', 43L)]\n",
      "IN 225795 : 100.00 : 1 : [('mL', 38L)]\n",
      "IN 226039 : 100.00 : 1 : [('mL', 61L)]\n",
      "IN 225889 : 100.00 : 1 : [('dose', 1L)]\n",
      "IN 221712 : 100.00 : 1 : [('mg', 1079L)]\n",
      "IN 227071 : 100.00 : 1 : [('mL', 8L)]\n",
      "IN 225797 : 100.00 : 1 : [('mL', 16275L)]\n",
      "IN 226059 : 100.00 : 1 : [('mL', 42L)]\n",
      "IN 226021 : 100.00 : 1 : [('mL', 1L)]\n",
      "IN 225912 : 98.80 : 2 : [('dose', 657L), ('grams', 8L)]\n",
      "IN 225850 : 97.55 : 3 : [('dose', 12407L), ('grams', 310L), ('mg', 2L)]\n",
      "IN 221653 : 100.00 : 1 : [('mg', 2207L)]\n",
      "IN 225907 : 99.74 : 2 : [('dose', 21987L), ('mg', 58L)]\n",
      "IN 221393 : 100.00 : 1 : [('mg', 233L)]\n",
      "IN 225801 : 100.00 : 1 : [('mL', 135L)]\n",
      "IN 225942 : 99.99 : 2 : [('mg', 45705L), ('mcg', 6L)]\n",
      "IN 225930 : 100.00 : 1 : [('mL', 3491L)]\n",
      "IN 225166 : 100.00 : 1 : [('mEq', 79684L)]\n",
      "IN 225845 : 69.06 : 3 : [('dose', 989L), ('mg', 442L), ('grams', 1L)]\n",
      "IN 227530 : 100.00 : 1 : [('mL', 528L)]\n",
      "IN 227072 : 100.00 : 1 : [('mL', 14L)]\n",
      "IN 227975 : 100.00 : 1 : [('mL', 7626L)]\n",
      "IN 221282 : 100.00 : 1 : [('mg', 177L)]\n",
      "IN 228363 : 100.00 : 1 : [('mL', 1568L)]\n",
      "IN 226376 : 100.00 : 1 : [('mL', 74L)]\n",
      "IN 221342 : 100.00 : 1 : [('mg', 15L)]\n",
      "IN 223260 : 100.00 : 1 : [('units', 8864L)]\n",
      "IN 226452 : 100.00 : 1 : [('mL', 133478L)]\n",
      "IN 225840 : 98.09 : 2 : [('dose', 205L), ('mg', 4L)]\n",
      "IN 225151 : 100.00 : 1 : [('mg', 1264L)]\n",
      "IN 226371 : 100.00 : 1 : [('mL', 194L)]\n",
      "IN 227526 : 100.00 : 1 : [('mmol', 17597L)]\n",
      "IN 222315 : 100.00 : 1 : [('units', 5591L)]\n",
      "IN 225855 : 99.29 : 2 : [('dose', 4625L), ('grams', 33L)]\n",
      "IN 227070 : 100.00 : 1 : [('mL', 75L)]\n",
      "IN 227533 : 100.00 : 1 : [('mL', 2026L)]\n",
      "IN 225941 : 100.00 : 1 : [('mL', 507L)]\n",
      "IN 225873 : 96.12 : 2 : [('dose', 198L), ('mg', 8L)]\n",
      "IN 228315 : 99.89 : 3 : [('mg', 4518L), ('grams', 4L), ('dose', 1L)]\n",
      "IN 225898 : 97.66 : 2 : [('dose', 250L), ('mg', 6L)]\n",
      "IN 225917 : 100.00 : 1 : [('mL', 3806L)]\n",
      "IN 228359 : 100.00 : 1 : [('mL', 1387L)]\n",
      "IN 225909 : 99.95 : 2 : [('dose', 1917L), ('mg', 1L)]\n",
      "IN 226367 : 99.90 : 2 : [('mL', 996L), ('?L', 1L)]\n",
      "IN 226031 : 100.00 : 1 : [('mL', 200L)]\n",
      "IN 227695 : 100.00 : 1 : [('mL', 9853L)]\n",
      "IN 225914 : 87.16 : 4 : [('mcg', 95L), ('dose', 8L), ('mg', 4L), ('pg', 2L)]\n",
      "IN 225838 : 99.72 : 2 : [('dose', 353L), ('mg', 1L)]\n",
      "IN 227689 : 99.87 : 2 : [('mg', 5226L), ('grams', 7L)]\n",
      "IN 226016 : 100.00 : 1 : [('mL', 57L)]\n",
      "IN 227531 : 99.46 : 2 : [('grams', 1108L), ('mg', 6L)]\n",
      "IN 221289 : 99.64 : 2 : [('mg', 6387L), ('mcg', 23L)]\n",
      "IN 228316 : 100.00 : 1 : [('mg', 867L)]\n",
      "IN 225944 : 100.00 : 1 : [('mL', 37069L)]\n",
      "IN 227690 : 99.91 : 2 : [('mg', 1082L), ('grams', 1L)]\n"
     ]
    }
   ],
   "source": [
    "# inputevents\n",
    "for i in input_itemid:\n",
    "    cur = conn.cursor()\n",
    "    cur.execute('SELECT amountuom, count(amountuom) FROM mimiciii.inputevents_mv WHERE itemid = '+ str(i) +' and hadm_id in ('+admission_ids_txt+') group by amountuom')\n",
    "    outputunits = cur.fetchall()\n",
    "    outputunits = sorted(outputunits, key=lambda tup: tup[1])\n",
    "    outputunits.reverse()\n",
    "    total = 0\n",
    "    for o in outputunits:\n",
    "        total += o[1]\n",
    "    if(total == 0 ): continue;\n",
    "    percentage = float(outputunits[0][1]) / total *100.\n",
    "    print \"IN \"+str(i) + \" : \" + \"{:.2f}\".format(percentage) + \" : \" + str(len(outputunits))+\" : \"+ str(outputunits)\n",
    "    \n",
    "    valid_input.append(i);\n",
    "    valid_input_unit.append(outputunits[0][0]);"
   ]
  },
  {
   "cell_type": "markdown",
   "metadata": {},
   "source": [
    "# save it !"
   ]
  },
  {
   "cell_type": "code",
   "execution_count": 10,
   "metadata": {
    "collapsed": false
   },
   "outputs": [
    {
     "name": "stdout",
     "output_type": "stream",
     "text": [
      "saved !\n"
     ]
    }
   ],
   "source": [
    "np.save('res/filtered_input',{'id':valid_input,'unit':valid_input_unit});\n",
    "print \"saved !\";"
   ]
  },
  {
   "cell_type": "code",
   "execution_count": null,
   "metadata": {
    "collapsed": true
   },
   "outputs": [],
   "source": []
  },
  {
   "cell_type": "code",
   "execution_count": null,
   "metadata": {
    "collapsed": true
   },
   "outputs": [],
   "source": []
  },
  {
   "cell_type": "code",
   "execution_count": null,
   "metadata": {
    "collapsed": true
   },
   "outputs": [],
   "source": []
  },
  {
   "cell_type": "code",
   "execution_count": null,
   "metadata": {
    "collapsed": true
   },
   "outputs": [],
   "source": []
  },
  {
   "cell_type": "code",
   "execution_count": null,
   "metadata": {
    "collapsed": true
   },
   "outputs": [],
   "source": []
  },
  {
   "cell_type": "code",
   "execution_count": null,
   "metadata": {
    "collapsed": true
   },
   "outputs": [],
   "source": []
  },
  {
   "cell_type": "code",
   "execution_count": null,
   "metadata": {
    "collapsed": true
   },
   "outputs": [],
   "source": []
  }
 ],
 "metadata": {
  "kernelspec": {
   "display_name": "Python 2",
   "language": "python",
   "name": "python2"
  },
  "language_info": {
   "codemirror_mode": {
    "name": "ipython",
    "version": 2
   },
   "file_extension": ".py",
   "mimetype": "text/x-python",
   "name": "python",
   "nbconvert_exporter": "python",
   "pygments_lexer": "ipython2",
   "version": "2.7.6"
  }
 },
 "nbformat": 4,
 "nbformat_minor": 0
}
