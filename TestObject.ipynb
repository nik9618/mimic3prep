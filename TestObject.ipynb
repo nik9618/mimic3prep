{
 "cells": [
  {
   "cell_type": "code",
   "execution_count": 1,
   "metadata": {
    "collapsed": true
   },
   "outputs": [],
   "source": [
    "import numpy"
   ]
  },
  {
   "cell_type": "code",
   "execution_count": 6,
   "metadata": {
    "collapsed": false
   },
   "outputs": [],
   "source": [
    "x=numpy.load('/home/kanit/mimic3/DB_22000_2/adm-000000.npy')"
   ]
  },
  {
   "cell_type": "code",
   "execution_count": 7,
   "metadata": {
    "collapsed": false
   },
   "outputs": [
    {
     "ename": "SyntaxError",
     "evalue": "invalid syntax (<ipython-input-7-59d2dffd692f>, line 1)",
     "output_type": "error",
     "traceback": [
      "\u001b[1;36m  File \u001b[1;32m\"<ipython-input-7-59d2dffd692f>\"\u001b[1;36m, line \u001b[1;32m1\u001b[0m\n\u001b[1;33m    x=\u001b[0m\n\u001b[1;37m      ^\u001b[0m\n\u001b[1;31mSyntaxError\u001b[0m\u001b[1;31m:\u001b[0m invalid syntax\n"
     ]
    }
   ],
   "source": [
    "x="
   ]
  },
  {
   "cell_type": "code",
   "execution_count": 11,
   "metadata": {
    "collapsed": false
   },
   "outputs": [],
   "source": [
    "x = x.tolist()"
   ]
  },
  {
   "cell_type": "code",
   "execution_count": 13,
   "metadata": {
    "collapsed": false
   },
   "outputs": [
    {
     "data": {
      "text/plain": [
       "[[185131, '51881', '518.81', 7],\n",
       " [185131, '5070', '507.0', 7],\n",
       " [185131, '5990', '599.0', 9],\n",
       " [185131, '5854', '585.4', 9],\n",
       " [185131, '41071', '410.71', 6],\n",
       " [185131, '5849', '584.9', 9],\n",
       " [185131, '42833', '428.33', 6],\n",
       " [185131, '28521', '285.21', 3],\n",
       " [185131, '2767', '276.7', 2],\n",
       " [185131, '25000', '250.00', 2],\n",
       " [185131, '40390', '403.90', 6],\n",
       " [185131, '4280', '428.0', 6],\n",
       " [185131, 'V1251', 'V12.51', 19],\n",
       " [185131, 'V5861', 'V58.61', 19],\n",
       " [185131, 'V441', 'V44.1', 19],\n",
       " [185131, 'V4581', 'V45.81', 19]]"
      ]
     },
     "execution_count": 13,
     "metadata": {},
     "output_type": "execute_result"
    }
   ],
   "source": [
    "x['icd9']"
   ]
  },
  {
   "cell_type": "markdown",
   "metadata": {},
   "source": [
    "#### "
   ]
  }
 ],
 "metadata": {
  "kernelspec": {
   "display_name": "Python 2",
   "language": "python",
   "name": "python2"
  },
  "language_info": {
   "codemirror_mode": {
    "name": "ipython",
    "version": 2
   },
   "file_extension": ".py",
   "mimetype": "text/x-python",
   "name": "python",
   "nbconvert_exporter": "python",
   "pygments_lexer": "ipython2",
   "version": "2.7.6"
  }
 },
 "nbformat": 4,
 "nbformat_minor": 0
}
